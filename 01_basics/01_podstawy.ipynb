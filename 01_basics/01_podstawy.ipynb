{
  "nbformat": 4,
  "nbformat_minor": 0,
  "metadata": {
    "colab": {
      "provenance": [],
      "toc_visible": true,
      "authorship_tag": "ABX9TyNG0y+v5GlAPnsPK93arL7P",
      "include_colab_link": true
    },
    "kernelspec": {
      "name": "python3",
      "display_name": "Python 3"
    },
    "language_info": {
      "name": "python"
    }
  },
  "cells": [
    {
      "cell_type": "markdown",
      "metadata": {
        "id": "view-in-github",
        "colab_type": "text"
      },
      "source": [
        "<a href=\"https://colab.research.google.com/github/smajkie/python_learning/blob/master/01_basics/01_podstawy.ipynb\" target=\"_parent\"><img src=\"https://colab.research.google.com/assets/colab-badge.svg\" alt=\"Open In Colab\"/></a>"
      ]
    },
    {
      "cell_type": "markdown",
      "metadata": {
        "id": "oIZJOT0gfEGA"
      },
      "source": [
        "# 01_PODSTAWY"
      ]
    },
    {
      "cell_type": "markdown",
      "metadata": {
        "id": "dE9xdVfv8qxb"
      },
      "source": [
        "## Funkcja `print`\n",
        "\n"
      ]
    },
    {
      "cell_type": "markdown",
      "source": [
        "Funkcja print() w języku Python służy do wyświetlania tekstu lub innych danych na konsoli lub w innym strumieniu wyjściowym. Jest to podstawowe narzędzie do wyprowadzania informacji z programu i jest szeroko używane w celu monitorowania działania kodu oraz komunikacji z użytkownikiem. Oto ogólna składnia funkcji print() w Pythonie:\n",
        "\n",
        "**`print(expr1, expr2, ..., sep=' ', end='\\n', file=sys.stdout, flush=False)`**\n",
        "\n",
        "\n",
        "* `expr1, expr2`, ...: To argumenty, które chcemy wyświetlić na konsoli. Mogą to być zmienne, napisy, liczby lub dowolne wyrażenia Pythona.\n",
        "\n",
        "* `sep`: Jest to opcjonalny argument, który określa, jakie znaki lub napisy zostaną użyte jako separator między wyrażeniami. Domyślnie jest to spacja.\n",
        "\n",
        "* `end`: Jest to opcjonalny argument, który określa, co zostanie dodane na końcu wyprowadzanych danych. Domyślnie jest to nowa linia (\"\\n\"), co oznacza, że każde wywołanie print() automatycznie przechodzi do nowej linii. Można to zmienić, aby zachować dane w tej samej linii lub użyć innego znaku jako zakończenia.\n",
        "\n",
        "* `file`: Jest to opcjonalny argument, który pozwala na określenie, do którego strumienia wyjściowego zostaną przekierowane dane. Domyślnie jest to sys.stdout, czyli standardowe wyjście konsoli. Można to zmienić, aby przekierować dane do innego pliku lub strumienia.\n",
        "\n",
        "*`flush`: Jest to opcjonalny argument typu bool, który określa, czy należy wymusić opróżnienie bufora wyjściowego po wywołaniu print(). Domyślnie jest to False, co oznacza, że bufor może być opróżniany w określonych momentach, co jest bardziej efektywne w kontekście wydajności.\n",
        "\n"
      ],
      "metadata": {
        "id": "B8Cck6zvfSSo"
      }
    },
    {
      "cell_type": "markdown",
      "source": [
        "### Kombinacje printów"
      ],
      "metadata": {
        "id": "lkgz6S6GkpXN"
      }
    },
    {
      "cell_type": "code",
      "source": [
        "print('Łamie linie')\n",
        "print('i jestem złamana')"
      ],
      "metadata": {
        "colab": {
          "base_uri": "https://localhost:8080/"
        },
        "id": "TaLKtqdvglOO",
        "outputId": "d0e21a99-8d53-48e0-aa27-f751d36c7079"
      },
      "execution_count": 3,
      "outputs": [
        {
          "output_type": "stream",
          "name": "stdout",
          "text": [
            "Łamie linie\n",
            "i jestem złamana\n"
          ]
        }
      ]
    },
    {
      "cell_type": "markdown",
      "source": [
        "Można też printować dokładnie tak jak jest 'wizualnie wpisane:"
      ],
      "metadata": {
        "id": "LaEu0mqpg_rW"
      }
    },
    {
      "cell_type": "code",
      "source": [
        "    print(\"\"\"   ale mozna i tak\n",
        "\n",
        "    sie lamac\"\"\")"
      ],
      "metadata": {
        "colab": {
          "base_uri": "https://localhost:8080/"
        },
        "id": "96dY-RdNhHEe",
        "outputId": "066a044a-a351-44f0-b43d-25c9f52faaf8"
      },
      "execution_count": 4,
      "outputs": [
        {
          "output_type": "stream",
          "name": "stdout",
          "text": [
            " ale mozna i tak\n",
            "\n",
            "sie lamac\n"
          ]
        }
      ]
    },
    {
      "cell_type": "markdown",
      "source": [
        "Można zdefiniować coś długiego też tak:"
      ],
      "metadata": {
        "id": "zFLAIIWvia4A"
      }
    },
    {
      "cell_type": "code",
      "source": [
        "  dluga_zmienna2 = ('https://intel.udemy.com/course/programowanie-w-jez'\n",
        "  'yku-python/learn/lecture/15714542/cosjeszczebardziejdlugiegoblabla')\n",
        "  print(dluga_zmienna2)"
      ],
      "metadata": {
        "colab": {
          "base_uri": "https://localhost:8080/"
        },
        "id": "UPDam0luiz4c",
        "outputId": "4e023608-b501-4951-929a-db7653494d15"
      },
      "execution_count": 9,
      "outputs": [
        {
          "output_type": "stream",
          "name": "stdout",
          "text": [
            "https://intel.udemy.com/course/programowanie-w-jezyku-python/learn/lecture/15714542/cosjeszczebardziejdlugiegoblabla\n"
          ]
        }
      ]
    },
    {
      "cell_type": "markdown",
      "source": [
        "### Znaki specjalne\n",
        " np w ścieżce rozbijają string więc:"
      ],
      "metadata": {
        "id": "Rlx8iKN9hPO_"
      }
    },
    {
      "cell_type": "code",
      "source": [
        "print(\"C:\\\\path\\\\to\\\\something\\\\new\")\n",
        "# albo r robi robotę\n",
        "print(r'C:\\path\\to\\something\\new')"
      ],
      "metadata": {
        "colab": {
          "base_uri": "https://localhost:8080/"
        },
        "id": "KE3YTNzBhUgv",
        "outputId": "d519e1ad-c98c-4321-c25e-c6162f7b3c6d"
      },
      "execution_count": 6,
      "outputs": [
        {
          "output_type": "stream",
          "name": "stdout",
          "text": [
            "C:\\path\\to\\something\\new\n",
            "C:\\path\\to\\something\\new\n"
          ]
        }
      ]
    },
    {
      "cell_type": "markdown",
      "source": [
        "### Proste powielania znaków:"
      ],
      "metadata": {
        "id": "Qr3HmhAaiTZ8"
      }
    },
    {
      "cell_type": "code",
      "source": [
        "print(r'\\/' * 80)"
      ],
      "metadata": {
        "colab": {
          "base_uri": "https://localhost:8080/"
        },
        "id": "Rv2EkNcwiYEY",
        "outputId": "241e52f1-c639-414f-ff8e-3be1f0778e84"
      },
      "execution_count": 7,
      "outputs": [
        {
          "output_type": "stream",
          "name": "stdout",
          "text": [
            "\\/\\/\\/\\/\\/\\/\\/\\/\\/\\/\\/\\/\\/\\/\\/\\/\\/\\/\\/\\/\\/\\/\\/\\/\\/\\/\\/\\/\\/\\/\\/\\/\\/\\/\\/\\/\\/\\/\\/\\/\\/\\/\\/\\/\\/\\/\\/\\/\\/\\/\\/\\/\\/\\/\\/\\/\\/\\/\\/\\/\\/\\/\\/\\/\\/\\/\\/\\/\\/\\/\\/\\/\\/\\/\\/\\/\\/\\/\\/\\/\n"
          ]
        }
      ]
    },
    {
      "cell_type": "markdown",
      "source": [
        "### F-strings\n"
      ],
      "metadata": {
        "id": "AYIowhNqjNPO"
      }
    },
    {
      "cell_type": "code",
      "source": [
        "import platform\n",
        "    # f-stringi z uzyciem zmiennych w środku\n",
        "print(f'This platform runs {platform.system()} system with release {platform.release()} on processor {platform.processor()}')\n",
        "    # z formatem biorącym z niego zmienne po kolei\n",
        "print('This platform runs {} system with release {} on processor {}'.format(platform.system(), platform.release(), platform.processor()))\n",
        "    # z formatem biorącym z niego zmienne wg wyboru\n",
        "print('This platform runs {2} system with release {0} on processor {1}'.format(platform.system(), platform.release(), platform.processor()))"
      ],
      "metadata": {
        "colab": {
          "base_uri": "https://localhost:8080/"
        },
        "id": "GljtzV18jSqz",
        "outputId": "e4a2daa7-9c89-4b35-a638-5216118a0130"
      },
      "execution_count": 10,
      "outputs": [
        {
          "output_type": "stream",
          "name": "stdout",
          "text": [
            "This platform runs Linux system with release 5.15.120+ on processor x86_64\n",
            "This platform runs Linux system with release 5.15.120+ on processor x86_64\n",
            "This platform runs x86_64 system with release Linux on processor 5.15.120+\n"
          ]
        }
      ]
    },
    {
      "cell_type": "markdown",
      "source": [
        "## Strings"
      ],
      "metadata": {
        "id": "fifQYUvWk77f"
      }
    },
    {
      "cell_type": "markdown",
      "source": [
        "`upper()`: Zamienia wszystkie litery w napisie na wielkie litery.\n",
        "\n",
        "`lower()`: Zamienia wszystkie litery w napisie na małe litery.\n",
        "\n",
        "`strip()`: Usuwa białe znaki (spacje, tabulatory, znaki nowej linii) z początku i końca napisu.\n",
        "\n",
        "`split()`: Dzieli napis na podciągi na podstawie określonego separatora i zwraca listę podciągów.\n",
        "\n",
        "`join()`: Łączy listę napisów w jeden napis, używając określonego separatora.\n",
        "\n",
        "`replace()`: Zamienia wszystkie wystąpienia określonego podciągu w napisie na inny podciąg.\n",
        "\n",
        "`find()`: Znajduje pierwsze wystąpienie określonego podciągu w napisie i zwraca indeks (lub -1, jeśli nie znaleziono).\n",
        "\n",
        "`index()`: Znajduje pierwsze wystąpienie określonego podciągu w napisie i zwraca indeks (ale generuje wyjątek ValueError, jeśli nie znaleziono).\n",
        "\n",
        "`startswith()`: Sprawdza, czy napis rozpoczyna się od określonego podciągu.\n",
        "\n",
        "`endswith()`: Sprawdza, czy napis kończy się określonym podciągiem.\n",
        "\n",
        "`count()`: Zlicza ilość wystąpień określonego podciągu w napisie.\n",
        "\n",
        "`capitalize()`: Zamienia pierwszą literę napisu na wielką, a pozostałe na małe.\n",
        "\n",
        "`title()`: Zamienia pierwsze litery wszystkich słów w napisie na wielkie."
      ],
      "metadata": {
        "id": "hvTS6-d6lIvD"
      }
    },
    {
      "cell_type": "code",
      "source": [
        "    x = 'ma'.join(['Ala', 'kota'])\n",
        "    print(x)\n",
        "    x = '#'.join(['Sport', 'TV', 'cos'])\n",
        "    print(x)\n",
        "    x = x.replace('#', '-')\n",
        "    print(x)\n",
        "    x = x.strip()                           # strip usuwa tylko spacje (wszystkie) rstrip po prawej lstrip po lewej\n",
        "    print(x)\n",
        "    y = '1,2,3,4,5'.split(',')              # dzieli znakiem i wrzuca do listy\n",
        "    print(y)"
      ],
      "metadata": {
        "colab": {
          "base_uri": "https://localhost:8080/"
        },
        "id": "u8Di7rRWmCFt",
        "outputId": "7d3b6a51-f277-488c-df8d-c43cffc2c9a6"
      },
      "execution_count": 11,
      "outputs": [
        {
          "output_type": "stream",
          "name": "stdout",
          "text": [
            "Alamakota\n",
            "Sport#TV#cos\n",
            "Sport-TV-cos\n",
            "Sport-TV-cos\n",
            "['1', '2', '3', '4', '5']\n"
          ]
        }
      ]
    },
    {
      "cell_type": "markdown",
      "source": [
        "### Slicing"
      ],
      "metadata": {
        "id": "_7V7SVRcmOBN"
      }
    },
    {
      "cell_type": "markdown",
      "source": [
        "Operator wycinania (ang. slicing) w języku Python jest używany do pobierania podciągów (fragmentów) danych z sekwencji, takich jak łańcuchy znaków (napisy), listy, krotki i inne sekwencje. Pozwala to na dostęp do konkretnych elementów sekwencji na podstawie ich pozycji (indeksów) oraz na tworzenie nowych podciągów na podstawie istniejących danych. Operator wycinania jest niezwykle przydatny i elastyczny.\n",
        "\n",
        "\n",
        "\n",
        "Ogólna składnia operatora wycinania wygląda następująco:\n",
        "\n",
        "**`sequence[start:stop:step]`**\n",
        "\n",
        "\n",
        "`sequence`: To obiekt, z którego chcemy wyciągnąć podciąg, na przykład łańcuch znaków, lista lub krotka.\n",
        "\n",
        "`start`: To indeks elementu, od którego rozpoczynamy wycinanie. Element o tym indeksie zostaje uwzględniony w wynikowym podciągu.\n",
        "\n",
        "`stop`: To indeks elementu, do którego chcemy wyciąć dane. Element o tym indeksie nie jest uwzględniany w wynikowym podciągu. Jest to opcjonalny argument.\n",
        "\n",
        "`step`: To wartość, która określa co ile elementów zostanie włączonych do wynikowego podciągu. Jest to również opcjonalny argument.\n",
        "\n",
        "\n",
        "\n",
        "Poniżej znajdują się przykłady użycia operatora wycinania w różnych kontekstach:\n",
        "\n",
        "Wycinanie podciągu z łańcucha znaków (napisu):\n",
        "\n",
        "napis = \"Python jest super\"\n",
        "podciag = napis[7:11]  # Wycinanie podciągu \"jest\"\n",
        "\n",
        "\n",
        "Wycinanie elementów z listy:\n",
        "\n",
        "lista = [1, 2, 3, 4, 5]\n",
        "podlista = lista[1:4]  # Wycinanie podlisty [2, 3, 4]\n",
        "\n",
        "\n",
        "Wycinanie elementów z krotki:\n",
        "\n",
        "krotka = (10, 20, 30, 40, 50)\n",
        "podkrotka = krotka[2:4]  # Wycinanie podkrotki (30, 40)\n",
        "\n",
        "\n",
        "Używanie kroku do wycinania co drugiego elementu:\n",
        "\n",
        "napis = \"Python jest super\"\n",
        "co_drugi = napis[::2]  # Wycinanie co drugiego znaku \"Pto etse\"\n",
        "\n",
        "\n",
        "Ujemne indeksy do wycinania od końca sekwencji:\n",
        "\n",
        "lista = [1, 2, 3, 4, 5]\n",
        "od_konca = lista[-3:-1]\n",
        "\n",
        "\n",
        "Operator wycinania jest bardzo użyteczny i może być stosowany w wielu sytuacjach, gdzie potrzebujemy dostępu do części danych w sekwencji. Odpowiednie wykorzystanie indeksów startu, końca i kroku pozwala na elastyczne manipulowanie danymi."
      ],
      "metadata": {
        "id": "Trqk3sdanPVR"
      }
    }
  ]
}