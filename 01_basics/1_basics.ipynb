{
 "cells": [
  {
   "cell_type": "markdown",
   "metadata": {},
   "source": [
    "### THIS IS AGENDA"
   ]
  },
  {
   "cell_type": "code",
   "execution_count": 1,
   "metadata": {},
   "outputs": [
    {
     "name": "stdout",
     "output_type": "stream",
     "text": [
      "Lamie linie\n",
      "\n",
      "i jestem zlamana\n",
      " ale mozna i tak\n",
      "\n",
      "    sie lamac\n",
      "\t A moze tab?\n",
      "C:\\path\to\\something\n",
      "ew\n",
      "C:\\path\\to\\something\\new\n",
      "\\n\\t\\s\\d\\f\\g\\h\n",
      "\\/\\/\\/\\/\\/\\/\\/\\/\\/\\/\\/\\/\\/\\/\\/\\/\\/\\/\\/\\/\\/\\/\\/\\/\\/\\/\\/\\/\\/\\/\\/\\/\\/\\/\\/\\/\\/\\/\\/\\/\\/\\/\\/\\/\\/\\/\\/\\/\\/\\/\\/\\/\\/\\/\\/\\/\\/\\/\\/\\/\\/\\/\\/\\/\\/\\/\\/\\/\\/\\/\\/\\/\\/\\/\\/\\/\\/\\/\\/\\/\n",
      "https://intel.udemy.com/course/programowanie-w-jezyku-python/learn/lecture/15714542/cosjeszczebardziejdlugiegoblabla\n",
      "https://intel.udemy.com/course/programowanie-w-jezyku-python/learn/lecture/15714542/cosjeszczebardziejdlugiegoblabla\n",
      "https://intel.udemy.com/course/programowanie-w-jezyku-python/learn/lecture/15714542/cosjeszczebardziejdlugiegoblabla \n",
      " https://intel.udemy.com/course/programowanie-w-jezyku-python/learn/lecture/15714542/cosjeszczebardziejdlugiegoblabla\n",
      "This platform runs Windows system with release 10 on processor Intel64 Family 6 Model 142 Stepping 9, GenuineIntel\n",
      "This platform runs Windows system with release 10 on processor Intel64 Family 6 Model 142 Stepping 9, GenuineIntel\n",
      "This platform runs Intel64 Family 6 Model 142 Stepping 9, GenuineIntel system with release Windows on processor 10\n"
     ]
    }
   ],
   "source": [
    "#!/usr/bin/env python3\n",
    "# Copyright SMAJKO\n",
    "\n",
    "#Source: https://intel.udemy.com/course/programowanie-w-jezyku-python/learn/lecture/15723394?start=0#overview\n",
    "'''print(expr1, expr2, ..., sep=' ', end='\\n', file=sys.stdout, flush=False)\n",
    "sep: Jest to opcjonalny argument, który określa, jakie znaki lub napisy zostaną użyte jako separator między wyrażeniami. Domyślnie jest\n",
    "to spacja.\n",
    "end: Jest to opcjonalny argument, który określa, co zostanie dodane na końcu wyprowadzanych danych. Domyślnie jest to nowa linia \n",
    "(\"\\n\"), co oznacza, że każde wywołanie print() automatycznie przechodzi do nowej linii. Można to zmienić, aby zachować dane w tej samej\n",
    "linii lub użyć innego znaku jako zakończenia.\n",
    "file: Jest to opcjonalny argument, który pozwala na określenie, do którego strumienia wyjściowego zostaną przekierowane dane. Domyślnie\n",
    "jest to sys.stdout, czyli standardowe wyjście konsoli. Można to zmienić, aby przekierować dane do innego pliku lub strumienia.'''\n",
    "\n",
    "import platform\n",
    "\n",
    "def main():\n",
    "    print('Lamie linie\\n')\n",
    "    print('i jestem zlamana')\n",
    "    print(\"\"\" ale mozna i tak\n",
    "\n",
    "    sie lamac\"\"\")                           # \"\"\" robia dokladnie tak jak jest napisane\n",
    "    print('\\t A moze tab?')\n",
    "    print(\"C:\\path\\to\\something\\new\")       # znaki specjalne rozbijaja string\n",
    "    print(\"C:\\\\path\\\\to\\\\something\\\\new\")   # podwojny backslash czyta jako tekst a nie jako specjalne znakiu wyzej\n",
    "    print(r'\\n\\t\\s\\d\\f\\g\\h')                # z r elegancko bierze jak jest\n",
    "    print(r'\\/' * 80)                        #prosty sposob na powielanie stringow, mozna nap oddzielic output bez mazania wszystkich tych znakow (80 suggested)\n",
    "    dluga_zmienna = 'https://intel.udemy.com/course/programowanie-w-jezyku-python/learn/lecture/15714542/cosjeszczebardziejdlugiegoblabla'\n",
    "    dluga_zmienna2 = ('https://intel.udemy.com/course/programowanie-w-jez'\n",
    "    'yku-python/learn/lecture/15714542/cosjeszczebardziejdlugiegoblabla')       #python zlepia stringi dlatego mozna lamac tak wiersze\n",
    "    print(f'{dluga_zmienna}\\n{dluga_zmienna2}')\n",
    "    print(dluga_zmienna,'\\n',dluga_zmienna2)        # on by default jak mu dajemy kilka argumentow to wstawia spacje miedzy nie\n",
    "    # formatowanie ladne\n",
    "    print(f'This platform runs {platform.system()} system with release {platform.release()} on processor {platform.processor()}')\n",
    "    # albo\n",
    "    print('This platform runs {} system with release {} on processor {}'.format(platform.system(), platform.release(), platform.processor()))\n",
    "    # albo2\n",
    "    print('This platform runs {2} system with release {0} on processor {1}'.format(platform.system(), platform.release(), platform.processor()))\n",
    "\n",
    "if __name__ == '__main__': main()"
   ]
  },
  {
   "cell_type": "markdown",
   "metadata": {},
   "source": [
    "## COS TMA"
   ]
  },
  {
   "cell_type": "markdown",
   "metadata": {},
   "source": [
    "# COS tylko"
   ]
  }
 ],
 "metadata": {
  "kernelspec": {
   "display_name": "Python 3",
   "language": "python",
   "name": "python3"
  },
  "language_info": {
   "codemirror_mode": {
    "name": "ipython",
    "version": 3
   },
   "file_extension": ".py",
   "mimetype": "text/x-python",
   "name": "python",
   "nbconvert_exporter": "python",
   "pygments_lexer": "ipython3",
   "version": "3.11.2"
  }
 },
 "nbformat": 4,
 "nbformat_minor": 2
}
