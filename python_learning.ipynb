{
  "nbformat": 4,
  "nbformat_minor": 0,
  "metadata": {
    "colab": {
      "provenance": [],
      "toc_visible": true,
      "authorship_tag": "ABX9TyMQjOLKjElyfM7BZKJr5nox",
      "include_colab_link": true
    },
    "kernelspec": {
      "name": "python3",
      "display_name": "Python 3"
    },
    "language_info": {
      "name": "python"
    }
  },
  "cells": [
    {
      "cell_type": "markdown",
      "metadata": {
        "id": "view-in-github",
        "colab_type": "text"
      },
      "source": [
        "<a href=\"https://colab.research.google.com/github/smajkie/python_learning/blob/master/python_learning.ipynb\" target=\"_parent\"><img src=\"https://colab.research.google.com/assets/colab-badge.svg\" alt=\"Open In Colab\"/></a>"
      ]
    },
    {
      "cell_type": "markdown",
      "metadata": {
        "id": "Xlh8LUJKxhvS"
      },
      "source": [
        "# **PYTHON nauka, notatki, ćwiczenia**"
      ]
    },
    {
      "cell_type": "markdown",
      "metadata": {
        "id": "TSeqXkSoyoOQ"
      },
      "source": [
        "W oparciu o kursy:\n",
        "\n",
        "\n",
        "1.   Python Essential Training (2018)\n",
        "https://www.linkedin.com/learning-login/share?account=2101329&forceAccount=false&redirect=https%3A%2F%2Fwww.linkedin.com%2Flearning%2Fpython-essential-training-2018%3Ftrk%3Dshare_ent_url%26shareId%3Db5mT9%252BBxTyKwzovlIR7gUQ%253D%253D\n",
        "2.   Programowanie w języku Python - od A do Z - 2023\n",
        "https://intel.udemy.com/course/programowanie-w-jezyku-python/learn/lecture/37172958#overview\n",
        "3. 300+ Ćwiczeń - Programowanie w języku Python - od A do Z\n",
        "https://intel.udemy.com/course/programowanie-w-jezyku-python-od-a-do-z-cwiczenia/learn/quiz/4841786#overview\n",
        "\n",
        "\n",
        "Oraz inne materiały"
      ]
    },
    {
      "cell_type": "markdown",
      "metadata": {
        "id": "mRmkyUhiw-J0"
      },
      "source": [
        "## PYTHON ogólnie (szybkie właściwości)\n",
        "\n",
        "\n",
        "\n",
        "\n",
        "\n"
      ]
    },
    {
      "cell_type": "markdown",
      "metadata": {
        "id": "oIEBaYmcw0nG"
      },
      "source": [
        "**High level notes**\n",
        "\n",
        "* `Print` jest funkcją w Python 3 ale keyword w Python 2.\n",
        "* W większości języków białe znaki są ignorowane podczas gdy w Pythonie mają znaczenie i formatowanie musi je uwzględniać.\n",
        "* W Pythonie wszystkie funkcje zwracają wartość (nawet jeśli jest to *'None'*)\n",
        "* Nie ma takiej pętli która zawsze wykona conajmniej jedną iterację (aka do...while)\n",
        "* Nie ma różnicy pomiędzy \" a '\n",
        "* Python 3 ma dwa rodzaje wartości numerycznych, integer i floating point. Inne typy są pochodnymi tych dwóch, możesz też stworzyć swój typ\n",
        "* Argumenty przekazane z jednej funkcji do innej są kopiami wartości, nie wartościami obiektu (znaczy że nowa funkcja nie zmienia wartości woryginalnej funkcji nawet jeśli jest tam wywoływana (? - to jest do sprawdzenia)\n",
        "* Python nie ma wbudowanych typów zmiennych, ale zwykle używamy dużych liter do wskazania zmiennej która nie powinna być zmieniana, np: *MAX_CONNECTIONS = 5000*\n",
        "* Dunder - double underscore - special names in python\n",
        "\n",
        "**Wbudowana pomoc w Pythonie**\n",
        "\n",
        "*a= 'data'*\n",
        "\n",
        "*type(a)* - zwroci string\n",
        "\n",
        "*dir(a)* pokaze wszystkie metody dla tego typu obiektu\n",
        "\n",
        "*help(len)* pokaze pomoc do wbudowanej funkcji len\n",
        "\n",
        "*dir(__builtins__)* pomoc do funkcji wbudowanych\n",
        "\n",
        "\n",
        "\n"
      ]
    }
  ]
}